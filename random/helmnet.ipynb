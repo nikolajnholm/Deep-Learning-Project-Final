{
 "cells": [
  {
   "cell_type": "code",
   "execution_count": 5,
   "id": "f5c03a25",
   "metadata": {},
   "outputs": [],
   "source": [
    "from tensorflow import keras\n",
    "import pandas as pd\n",
    "import numpy as np\n",
    "import tensorflow as tf\n",
    "from tensorflow.keras.models import Sequential\n",
    "from tensorflow.keras.layers import Conv2D\n",
    "from tensorflow.keras.layers import MaxPooling2D\n",
    "from tensorflow.keras.layers import Flatten\n",
    "from tensorflow.keras.layers import Dense, Dropout\n",
    "from tensorflow.keras.utils import to_categorical"
   ]
  },
  {
   "cell_type": "code",
   "execution_count": 8,
   "id": "f729e4f8",
   "metadata": {},
   "outputs": [],
   "source": [
    "annot = pd.read_csv(\"../Annotations/labels_deeplearning-copenhagen_2021-11-09-02-43-16.csv\")\n",
    "images = "
   ]
  },
  {
   "cell_type": "code",
   "execution_count": null,
   "id": "289e22d7",
   "metadata": {},
   "outputs": [],
   "source": [
    "# Initialising the CNN\n",
    "model = Sequential(\n",
    "    [\n",
    "        Conv2D(32, (3, 3), input_shape = (64, 64, 3), activation = 'relu'),\n",
    "        MaxPooling2D(pool_size = (2, 2)),\n",
    "        Conv2D(32, (3, 3), input_shape = (64, 64, 3), activation = 'relu'),\n",
    "        Flatten(),\n",
    "        Dense(units = 256, activation = 'relu'),\n",
    "        Dropout(0.5),\n",
    "        Dense(units = 128, activation = 'relu'),\n",
    "        Dense(units = 6, activation = 'softmax')\n",
    "    ]\n",
    ")\n",
    "\n",
    "# Compiling the CNN\n",
    "model.compile(optimizer = 'adam', loss = 'sparse_categorical_crossentropy', metrics = ['accuracy'])\n",
    "model.summary()"
   ]
  }
 ],
 "metadata": {
  "kernelspec": {
   "display_name": "Python 3 (ipykernel)",
   "language": "python",
   "name": "python3"
  },
  "language_info": {
   "codemirror_mode": {
    "name": "ipython",
    "version": 3
   },
   "file_extension": ".py",
   "mimetype": "text/x-python",
   "name": "python",
   "nbconvert_exporter": "python",
   "pygments_lexer": "ipython3",
   "version": "3.8.9"
  }
 },
 "nbformat": 4,
 "nbformat_minor": 5
}
