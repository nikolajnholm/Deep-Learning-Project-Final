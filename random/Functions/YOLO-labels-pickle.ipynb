{
 "cells": [
  {
   "cell_type": "code",
   "execution_count": 2,
   "metadata": {},
   "outputs": [
    {
     "ename": "ModuleNotFoundError",
     "evalue": "No module named 'model'",
     "output_type": "error",
     "traceback": [
      "\u001b[0;31m---------------------------------------------------------------------------\u001b[0m",
      "\u001b[0;31mModuleNotFoundError\u001b[0m                       Traceback (most recent call last)",
      "\u001b[0;32m<ipython-input-2-56f0f53adabb>\u001b[0m in \u001b[0;36m<module>\u001b[0;34m\u001b[0m\n\u001b[0;32m----> 1\u001b[0;31m \u001b[0;32mfrom\u001b[0m \u001b[0mmodel\u001b[0m \u001b[0;32mimport\u001b[0m \u001b[0mpredict_YOLO\u001b[0m\u001b[0;34m,\u001b[0m \u001b[0mpredict_YOLO3_cphdata\u001b[0m\u001b[0;34m,\u001b[0m \u001b[0mpredict_print_YOLO3_cphdata\u001b[0m\u001b[0;34m\u001b[0m\u001b[0;34m\u001b[0m\u001b[0m\n\u001b[0m\u001b[1;32m      2\u001b[0m \u001b[0;32mfrom\u001b[0m \u001b[0myolo3_one_file_to_detect_them_all\u001b[0m \u001b[0;32mimport\u001b[0m \u001b[0;34m*\u001b[0m\u001b[0;34m\u001b[0m\u001b[0;34m\u001b[0m\u001b[0m\n\u001b[1;32m      3\u001b[0m \u001b[0;34m\u001b[0m\u001b[0m\n\u001b[1;32m      4\u001b[0m \u001b[0;32mimport\u001b[0m \u001b[0mstruct\u001b[0m\u001b[0;34m\u001b[0m\u001b[0;34m\u001b[0m\u001b[0m\n\u001b[1;32m      5\u001b[0m \u001b[0;32mimport\u001b[0m \u001b[0mnumpy\u001b[0m \u001b[0;32mas\u001b[0m \u001b[0mnp\u001b[0m\u001b[0;34m\u001b[0m\u001b[0;34m\u001b[0m\u001b[0m\n",
      "\u001b[0;31mModuleNotFoundError\u001b[0m: No module named 'model'"
     ]
    }
   ],
   "source": [
    "from model import predict_YOLO, predict_YOLO3_cphdata, predict_print_YOLO3_cphdata\n",
    "from yolo3_one_file_to_detect_them_all import * \n",
    "\n",
    "import struct\n",
    "import numpy as np\n",
    "from keras.layers import Conv2D\n",
    "from keras.layers import Input\n",
    "from keras.layers import BatchNormalization\n",
    "from keras.layers import LeakyReLU\n",
    "from keras.layers import ZeroPadding2D\n",
    "from keras.layers import UpSampling2D\n",
    "from keras.layers.merge import add, concatenate\n",
    "from keras.models import Model\n",
    "from keras.models import load_model\n",
    "from keras.preprocessing.image import load_img,img_to_array\n",
    "from keras.backend import expand_dims\n",
    "from matplotlib.patches import Rectangle\n",
    "import matplotlib.pyplot as plt\n",
    "from pathlib import Path\n",
    "\n",
    "from PIL import Image\n",
    "from os import listdir\n",
    "from os.path import isfile, join\n",
    "\n",
    "\n",
    "import sys\n",
    "# insert at 1, 0 is the script path (or '' in REPL)\n",
    "sys.path.insert(1, \"/Users/oskarlassen/Desktop/DeepLearning/Project/Deep-Learning-Project/\")\n",
    "\n",
    "from CopActNet.tools import reader, writer\n",
    "from CopActNet import config as cfg"
   ]
  },
  {
   "cell_type": "markdown",
   "metadata": {},
   "source": [
    "## Load the pretrained YOLO"
   ]
  },
  {
   "cell_type": "code",
   "execution_count": 5,
   "metadata": {
    "scrolled": true
   },
   "outputs": [
    {
     "name": "stdout",
     "output_type": "stream",
     "text": [
      "WARNING:tensorflow:No training configuration found in the save file, so the model was *not* compiled. Compile it manually.\n"
     ]
    }
   ],
   "source": [
    "# load yolov3 model\n",
    "model = load_model('model.h5')"
   ]
  },
  {
   "cell_type": "markdown",
   "metadata": {},
   "source": [
    "## Load pickle vid"
   ]
  },
  {
   "cell_type": "code",
   "execution_count": 6,
   "metadata": {},
   "outputs": [],
   "source": [
    "pkl_data = reader.load_pickle(\"/Users/oskarlassen/Desktop/DeepLearning/Project/Deep-Learning-Project/Data/ny_video.pkl\")"
   ]
  },
  {
   "cell_type": "code",
   "execution_count": 54,
   "metadata": {
    "scrolled": false
   },
   "outputs": [
    {
     "name": "stdout",
     "output_type": "stream",
     "text": [
      "0\n",
      "200\n",
      "400\n",
      "600\n",
      "800\n",
      "1000\n",
      "1200\n",
      "1400\n",
      "1600\n"
     ]
    }
   ],
   "source": [
    "annotate_index = []\n",
    "\n",
    "\n",
    "for i in range(pkl_data.shape[0]):\n",
    "    \n",
    "    ####### MAKING PICKLE IMAGE READY TO GO INTO YOLO\n",
    "    img_pkl = pkl_data[i]\n",
    "    # scale pixel values to [0, 1]\n",
    "    img = img_pkl.astype('float32')\n",
    "    img /= 255.0\n",
    "    # add a dimension so that we have one sample\n",
    "    img = expand_dims(img, 0)\n",
    "    \n",
    "    ####### RETURN ########\n",
    "\n",
    "    labels = YOLO_pkl_predict(img, model)\n",
    "    if (\"bicycle\" in labels) or (\"person\" in labels):\n",
    "        annotate_index.append(1)\n",
    "    else:\n",
    "        annotate_index.append(0)\n",
    "    \n",
    "    if i % 200 == 0:\n",
    "        print(i)"
   ]
  },
  {
   "cell_type": "code",
   "execution_count": 66,
   "metadata": {},
   "outputs": [],
   "source": [
    "annotate_index_plus = []\n",
    "\n",
    "val_prev = 0\n",
    "for val in annotate_index:\n",
    "    if val == 1:\n",
    "        annotate_index_plus.append(1)\n",
    "    elif val_prev == 1:\n",
    "        annotate_index_plus.append(1)\n",
    "    else:\n",
    "        annotate_index_plus.append(0)\n",
    "    val_prev = val"
   ]
  },
  {
   "cell_type": "code",
   "execution_count": 82,
   "metadata": {},
   "outputs": [],
   "source": [
    "writer.pickle_obj(Path.joinpath(cfg.ROOT_DIR,\"Frames_forannotation.pkl\"),pkl_data[np.array(annotate_index_plus, dtype = bool)])"
   ]
  },
  {
   "cell_type": "code",
   "execution_count": null,
   "metadata": {},
   "outputs": [],
   "source": []
  }
 ],
 "metadata": {
  "kernelspec": {
   "display_name": "Python 3",
   "language": "python",
   "name": "python3"
  },
  "language_info": {
   "codemirror_mode": {
    "name": "ipython",
    "version": 3
   },
   "file_extension": ".py",
   "mimetype": "text/x-python",
   "name": "python",
   "nbconvert_exporter": "python",
   "pygments_lexer": "ipython3",
   "version": "3.8.5"
  }
 },
 "nbformat": 4,
 "nbformat_minor": 4
}
