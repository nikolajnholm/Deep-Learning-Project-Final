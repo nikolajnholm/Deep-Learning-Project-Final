{
 "cells": [
  {
   "cell_type": "code",
   "execution_count": 31,
   "metadata": {},
   "outputs": [],
   "source": [
    "from model import predict_YOLO_bikes, predict_YOLO, YOLO_pkl_predict\n",
    "from yolo3_one_file_to_detect_them_all import * \n",
    "\n",
    "import struct\n",
    "import numpy as np\n",
    "import keras\n",
    "import tensorflow\n",
    "from keras.layers import Conv2D\n",
    "from keras.layers import Input\n",
    "from keras.layers import BatchNormalization\n",
    "from keras.layers import LeakyReLU\n",
    "from keras.layers import ZeroPadding2D\n",
    "from keras.layers import UpSampling2D\n",
    "from keras.layers.merge import add, concatenate\n",
    "from keras.models import Model\n",
    "from keras.models import load_model\n",
    "from keras.preprocessing.image import load_img,img_to_array\n",
    "from keras.backend import expand_dims\n",
    "from matplotlib.patches import Rectangle\n",
    "import matplotlib.pyplot as plt\n",
    "from pathlib import Path\n",
    "\n",
    "from PIL import Image\n",
    "from os import listdir\n",
    "from os.path import isfile, join\n",
    "\n",
    "\n",
    "import sys\n",
    "# insert at 1, 0 is the script path (or '' in REPL)\n",
    "sys.path.insert(1, \"/Users/oskarlassen/Desktop/DeepLearning/Project/Deep-Learning-Project/\")\n",
    "\n",
    "from CopActNet.tools import reader, writer\n",
    "from CopActNet import config as cfg"
   ]
  },
  {
   "cell_type": "code",
   "execution_count": 43,
   "metadata": {},
   "outputs": [],
   "source": [
    "pkl_data = reader.load_pickle(\"/Users/oskarlassen/Desktop/DeepLearning/Project/Deep-Learning-Project/Frames_forannotation.pkl\")\n"
   ]
  },
  {
   "cell_type": "code",
   "execution_count": 65,
   "metadata": {
    "scrolled": true
   },
   "outputs": [],
   "source": [
    "writer.tensor2frames_jpg(pkl_data, Path(\"/Users/oskarlassen/Desktop/DeepLearning/Project/Deep-Learning-Project/Annotations\"), \"JPG-To-Annotation\")\n",
    "\n"
   ]
  }
 ],
 "metadata": {
  "kernelspec": {
   "display_name": "Python 3",
   "language": "python",
   "name": "python3"
  },
  "language_info": {
   "codemirror_mode": {
    "name": "ipython",
    "version": 3
   },
   "file_extension": ".py",
   "mimetype": "text/x-python",
   "name": "python",
   "nbconvert_exporter": "python",
   "pygments_lexer": "ipython3",
   "version": "3.8.5"
  }
 },
 "nbformat": 4,
 "nbformat_minor": 4
}
